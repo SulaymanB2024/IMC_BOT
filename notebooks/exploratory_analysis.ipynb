{
 "cells": [
  {
   "cell_type": "markdown",
   "id": "60bd6935",
   "metadata": {},
   "source": [
    "# Trading Data Analysis - Exploratory Analysis\n",
    "\n",
    "This notebook explores the trading data and demonstrates the feature generation process."
   ]
  },
  {
   "cell_type": "code",
   "execution_count": null,
   "id": "c2843738",
   "metadata": {},
   "outputs": [],
   "source": [
    "import sys\n",
    "sys.path.append('..')\n",
    "\n",
    "import pandas as pd\n",
    "import numpy as np\n",
    "import plotly.graph_objects as go\n",
    "from plotly.subplots import make_subplots\n",
    "\n",
    "from src.data_analysis_pipeline.config import load_config\n",
    "from src.data_analysis_pipeline.data_ingestion import load_trading_data\n",
    "from src.data_analysis_pipeline.data_cleaning import validate_and_clean_data\n",
    "from src.data_analysis_pipeline.feature_engineering import generate_features"
   ]
  },
  {
   "cell_type": "markdown",
   "id": "89b94024",
   "metadata": {},
   "source": [
    "## Load and Explore Raw Data"
   ]
  },
  {
   "cell_type": "code",
   "execution_count": null,
   "id": "3cff219a",
   "metadata": {},
   "outputs": [],
   "source": [
    "# Load raw data\n",
    "raw_data = load_trading_data()\n",
    "\n",
    "print(\"Raw data shape:\", raw_data.shape)\n",
    "print(\"\\nColumns:\", raw_data.columns.tolist())\n",
    "print(\"\\nSample data:\")\n",
    "raw_data.head()"
   ]
  },
  {
   "cell_type": "markdown",
   "id": "c2e63ae2",
   "metadata": {},
   "source": [
    "## Data Quality Analysis"
   ]
  },
  {
   "cell_type": "code",
   "execution_count": null,
   "metadata": {},
   "outputs": [],
   "source": [
    "# Basic statistics\n",
    "print(\"Basic statistics:\")\n",
    "raw_data.describe()\n",
    "\n",
    "# Check for missing values\n",
    "print(\"\\nMissing values:\")\n",
    "raw_data.isnull().sum()"
   ]
  },
  {
   "cell_type": "markdown",
   "metadata": {},
   "source": [
    "## Price Analysis"
   ]
  },
  {
   "cell_type": "code",
   "execution_count": null,
   "metadata": {},
   "outputs": [],
   "source": [
    "def plot_price_analysis(df, price_col='price'):\n",
    "    fig = make_subplots(rows=2, cols=1, subplot_titles=['Price Over Time', 'Daily Returns Distribution'])\n",
    "    \n",
    "    # Price plot\n",
    "    fig.add_trace(\n",
    "        go.Scatter(x=df.index, y=df[price_col], name='Price'),\n",
    "        row=1, col=1\n",
    "    )\n",
    "    \n",
    "    # Returns distribution\n",
    "    returns = np.log(df[price_col]).diff()\n",
    "    fig.add_trace(\n",
    "        go.Histogram(x=returns, name='Returns Distribution', nbinsx=50),\n",
    "        row=2, col=1\n",
    "    )\n",
    "    \n",
    "    fig.update_layout(height=800, title_text=\"Price Analysis\")\n",
    "    fig.show()\n",
    "\n",
    "plot_price_analysis(raw_data)"
   ]
  },
  {
   "cell_type": "markdown",
   "metadata": {},
   "source": [
    "## Feature Generation Example"
   ]
  },
  {
   "cell_type": "code",
   "execution_count": null,
   "metadata": {},
   "outputs": [],
   "source": [
    "# Clean data\n",
    "cleaned_data = validate_and_clean_data(raw_data)\n",
    "\n",
    "# Generate features\n",
    "feature_data = generate_features(cleaned_data)\n",
    "\n",
    "print(\"Generated features:\")\n",
    "new_features = set(feature_data.columns) - set(raw_data.columns)\n",
    "print(\"\\n\".join(sorted(new_features)))"
   ]
  },
  {
   "cell_type": "markdown",
   "metadata": {},
   "source": [
    "## Technical Indicators Visualization"
   ]
  }
 ],
 "metadata": {
  "language_info": {
   "name": "python"
  }
 },
 "nbformat": 4,
 "nbformat_minor": 5
}
